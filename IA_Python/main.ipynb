{
 "cells": [
  {
   "cell_type": "code",
   "execution_count": null,
   "metadata": {},
   "outputs": [],
   "source": [
    "import pandas as pd\n",
    "\n",
    "tabelaClientes = pd.read_csv(\"clientes.csv\")\n",
    "display(tabelaClientes)"
   ]
  },
  {
   "cell_type": "code",
   "execution_count": null,
   "metadata": {},
   "outputs": [],
   "source": [
    "display(tabelaClientes.info())\n",
    "\n",
    "from sklearn.preprocessing import LabelEncoder\n",
    "\n",
    "codificador = LabelEncoder()\n",
    "\n",
    "tabelaClientes[\"profissao\"] = codificador.fit_transform(tabelaClientes[\"profissao\"])\n",
    "\n",
    "tabelaClientes[\"mix_credito\"] = codificador.fit_transform(tabelaClientes[\"mix_credito\"])\n",
    "\n",
    "tabelaClientes[\"comportamento_pagamento\"] = codificador.fit_transform(tabelaClientes[\"comportamento_pagamento\"])\n",
    "\n",
    "display(tabelaClientes.info())"
   ]
  },
  {
   "cell_type": "code",
   "execution_count": null,
   "metadata": {},
   "outputs": [],
   "source": [
    "y = tabelaClientes[\"score_credito\"]\n",
    "\n",
    "x = tabelaClientes.drop(columns = [\"id_cliente\", \"score_credito\"])\n",
    "\n",
    "from sklearn.model_selection import train_test_split\n",
    "\n",
    "x_treino, x_teste, y_treino, y_teste = train_test_split(x,y, test_size= 0.3)"
   ]
  },
  {
   "cell_type": "code",
   "execution_count": null,
   "metadata": {},
   "outputs": [],
   "source": [
    "from sklearn.ensemble import RandomForestClassifier\n",
    "from sklearn.neighbors import KNeighborsClassifier\n",
    "\n",
    "modelo_arvoreDecisao = RandomForestClassifier()\n",
    "modelo_knn = KNeighborsClassifier()\n",
    "\n",
    "modelo_arvoreDecisao.fit(x_treino, y_treino)\n",
    "modelo_knn.fit(x_treino, y_treino)"
   ]
  },
  {
   "cell_type": "code",
   "execution_count": null,
   "metadata": {},
   "outputs": [],
   "source": [
    "previsao_arvoreDecisao = modelo_arvoreDecisao.predict(x_teste)\n",
    "\n",
    "previsao_knn = modelo_knn.predict(x_teste)\n",
    "\n",
    "from sklearn.metrics import accuracy_score\n",
    "\n",
    "display(accuracy_score(y_teste, previsao_arvoreDecisao))\n",
    "display(accuracy_score(y_teste, previsao_knn))"
   ]
  },
  {
   "cell_type": "code",
   "execution_count": null,
   "metadata": {},
   "outputs": [],
   "source": [
    "tabelaNovoClientes = pd.read_csv(\"novos_clientes.csv\")\n",
    "display(tabelaNovoClientes)\n",
    "\n",
    "tabelaNovoClientes[\"profissao\"] = codificador.fit_transform(tabelaNovoClientes[\"profissao\"])\n",
    "\n",
    "tabelaNovoClientes[\"mix_credito\"] = codificador.fit_transform(tabelaNovoClientes[\"mix_credito\"])\n",
    "\n",
    "tabelaNovoClientes[\"comportamento_pagamento\"] = codificador.fit_transform(tabelaNovoClientes[\"comportamento_pagamento\"])\n",
    "\n",
    "previsao = modelo_arvoreDecisao.predict(tabelaNovoClientes)\n",
    "display(previsao)"
   ]
  }
 ],
 "metadata": {
  "kernelspec": {
   "display_name": "Python 3",
   "language": "python",
   "name": "python3"
  },
  "language_info": {
   "codemirror_mode": {
    "name": "ipython",
    "version": 3
   },
   "file_extension": ".py",
   "mimetype": "text/x-python",
   "name": "python",
   "nbconvert_exporter": "python",
   "pygments_lexer": "ipython3",
   "version": "3.11.9"
  }
 },
 "nbformat": 4,
 "nbformat_minor": 2
}
